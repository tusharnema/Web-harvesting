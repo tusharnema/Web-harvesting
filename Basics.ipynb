{
 "cells": [
  {
   "cell_type": "code",
   "execution_count": 1,
   "metadata": {},
   "outputs": [],
   "source": [
    "import bs4\n"
   ]
  },
  {
   "cell_type": "code",
   "execution_count": 3,
   "metadata": {},
   "outputs": [],
   "source": [
    "from urllib.request import urlopen as uReq"
   ]
  },
  {
   "cell_type": "code",
   "execution_count": 4,
   "metadata": {},
   "outputs": [],
   "source": [
    "from bs4 import BeautifulSoup as soup"
   ]
  },
  {
   "cell_type": "code",
   "execution_count": 5,
   "metadata": {},
   "outputs": [],
   "source": [
    "my_url=\"https://www.amazon.in/b/ref=sv_top_elec_mega_0?_encoding=UTF8&node=1389401031\""
   ]
  },
  {
   "cell_type": "code",
   "execution_count": 6,
   "metadata": {},
   "outputs": [
    {
     "data": {
      "text/plain": [
       "'https://www.amazon.in/b/ref=sv_top_elec_mega_0?_encoding=UTF8&node=1389401031'"
      ]
     },
     "execution_count": 6,
     "metadata": {},
     "output_type": "execute_result"
    }
   ],
   "source": [
    "my_url\n"
   ]
  },
  {
   "cell_type": "code",
   "execution_count": 7,
   "metadata": {},
   "outputs": [],
   "source": [
    "#opening the connection and grabbing the page\n",
    "uclient =  uReq(my_url)\n",
    "page_html= uclient.read()\n",
    "uclient.close()"
   ]
  },
  {
   "cell_type": "code",
   "execution_count": 8,
   "metadata": {},
   "outputs": [
    {
     "data": {
      "text/plain": [
       "<h1>Mobiles and Accessories</h1>"
      ]
     },
     "execution_count": 8,
     "metadata": {},
     "output_type": "execute_result"
    }
   ],
   "source": [
    "#html parsing\n",
    "page_soup= soup(page_html,'html.parser')\n",
    "page_soup.h1 #header"
   ]
  },
  {
   "cell_type": "code",
   "execution_count": 9,
   "metadata": {},
   "outputs": [
    {
     "data": {
      "text/plain": [
       "<p class=\"nav_p nav-bold\"></p>"
      ]
     },
     "execution_count": 9,
     "metadata": {},
     "output_type": "execute_result"
    }
   ],
   "source": [
    "#paragraph\n",
    "page_soup.p"
   ]
  },
  {
   "cell_type": "code",
   "execution_count": 11,
   "metadata": {},
   "outputs": [],
   "source": [
    "#grabs each product\n",
    "containers= page_soup.findAll(\"div\",{\"class\" :\"crwBucket\"})"
   ]
  },
  {
   "cell_type": "code",
   "execution_count": 12,
   "metadata": {},
   "outputs": [
    {
     "data": {
      "text/plain": [
       "10"
      ]
     },
     "execution_count": 12,
     "metadata": {},
     "output_type": "execute_result"
    }
   ],
   "source": [
    "len(containers)"
   ]
  },
  {
   "cell_type": "code",
   "execution_count": 13,
   "metadata": {},
   "outputs": [
    {
     "data": {
      "text/plain": [
       "<div class=\"crwBucket\" id=\"crwReviewRow1\">\n",
       "<div class=\"crwImage\">\n",
       "<a href=\"https://www.amazon.in/OnePlus-Mirror-Black-64GB-Memory/dp/B0756Z43QS\"><div class=\"crwRank\" id=\"crwRank1\"></div></a>\n",
       "<div class=\"crwProductImage\">\n",
       "<a href=\"https://www.amazon.in/OnePlus-Mirror-Black-64GB-Memory/dp/B0756Z43QS\"><img alt=\"OnePlus 6 (Mirror Black 6GB RAM + 64GB Memory)\" border=\"0\" class=\"crwProductDetailsImage\" onload='window.uet &amp;&amp; uet.call &amp;&amp; uet(\"cf\");' src=\"https://images-eu.ssl-images-amazon.com/images/I/41fT611rSBL._AC_SS200_.jpg\" title=\"OnePlus 6 (Mirror Black 6GB RAM + 64GB Memory)\"/></a></div>\n",
       "</div>\n",
       "<div class=\"crwContentContainer\">\n",
       "<div class=\"crwProductDetail\">\n",
       "<div class=\"crwRanking\">\n",
       "# 1 Best Selling           </div>\n",
       "<div class=\"crwTitle\">\n",
       "<a href=\"https://www.amazon.in/OnePlus-Mirror-Black-64GB-Memory/dp/B0756Z43QS\">OnePlus 6 (Mirror Black 6GB RAM + 64GB Memory)</a></div>\n",
       "<div class=\"crwByLine\">\n",
       "</div>\n",
       "<span class=\"categoryReviewsWidgetB0756Z43QS\">\n",
       "<span class=\"a-declarative\" data-a-popover='{\"closeButton\":\"false\",\"max-width\":\"700\",\"position\":\"triggerBottom\",\"url\":\"/review/widgets/average-customer-review/popover?ie=UTF8&amp;asin=B0756Z43QS&amp;colid=&amp;coliid=&amp;contextId=categoryReviewsWidget&amp;ref=acr_categoryreviewswidget__popover\"}' data-action=\"a-popover\">\n",
       "<a class=\"a-link-normal a-text-normal\" href=\"https://www.amazon.in/product-reviews/B0756Z43QS\">\n",
       "<i class=\"a-icon a-icon-star a-star-4\"><span class=\"a-icon-alt\">4.2 out of 5 stars</span></i>\n",
       "</a>\n",
       "</span>\n",
       "<span class=\"a-size-small\">\n",
       "    (<a class=\"a-link-normal\" href=\"https://www.amazon.in/product-reviews/B0756Z43QS\">1,935</a>)\n",
       "  </span>\n",
       "</span>\n",
       "<div class=\"crwPrice\">\n",
       "<span class=\"crwActualPrice\"><span style=\"text-decoration: inherit; white-space: nowrap;\"><span class=\"currencyINR\">  </span><span class=\"currencyINRFallback\" style=\"display:none\">Rs. </span>34,999.00</span></span>\n",
       "</div>\n",
       "</div>\n",
       "<div class=\"crwReviews\">\n",
       "<div class=\"crwHelpfulReview\" id=\"epReviewHelpful1\">\n",
       "<!-- BOUNDARY -->\n",
       "<a name=\"R2TKOID85H3SPO\"></a>\n",
       "<div>\n",
       "<div style=\"margin-bottom:0.5em;\">\n",
       "<div class=\"tiny\">Most helpful review</div>\n",
       "</div>\n",
       "<div>\n",
       "<span><span class=\"swSprite s_star_5_0 \" title=\"5.0 out of 5 stars\"><span>5.0 out of 5 stars</span></span> </span>\n",
       "<b>Its Awesome..</b><br/>\n",
       "          Got its order placed within a minute of Prime sale and product reached me the very next day on 22nd May. Exceptional services from Amazon, as usual.\n",
       "          <span style=\"white-space: nowrap; text-decoration: underline; color: #039;\"><b><a href=\"https://www.amazon.in/review/R2TKOID85H3SPO\" title=\"Read the full review by RAKESH ROSHAN RANA\"><b>Read the full review</b></a></b></span>\n",
       "</div>\n",
       "<div class=\"tiny\" style=\"margin-top:5px; clear: both;\">\n",
       "</div>\n",
       "<div class=\"tiny\" style=\"margin-top:5px; clear: both;\">\n",
       "  Published 9 days ago by RAKESH ROSHAN RANA\n",
       "</div>\n",
       "</div>\n",
       "</div>\n",
       "<div class=\"crwRecentReview\" id=\"reviewRecent1\">\n",
       "<!-- BOUNDARY -->\n",
       "<a name=\"RLE915WGPYKMJ\"></a>\n",
       "<div>\n",
       "<div style=\"margin-bottom:0.5em;\">\n",
       "<div class=\"tiny\">Most recent review</div>\n",
       "</div>\n",
       "<div>\n",
       "<span><span class=\"swSprite s_star_5_0 \" title=\"5.0 out of 5 stars\"><span>5.0 out of 5 stars</span></span> </span>\n",
       "<b>Five Stars</b><br/>\n",
       "          very nice and  good product\n",
       "          <span style=\"white-space: nowrap; text-decoration: underline; color: #039;\"><b><a href=\"https://www.amazon.in/review/RLE915WGPYKMJ\" title=\"Read the full review by sagar jayaswal\"><b></b></a></b></span>\n",
       "</div>\n",
       "<div class=\"tiny\" style=\"margin-top:5px; clear: both;\">\n",
       "</div>\n",
       "<div class=\"tiny\" style=\"margin-top:5px; clear: both;\">\n",
       "<span style=\"color: #090;\">Published 7 minutes ago by sagar jayaswal</span>\n",
       "</div>\n",
       "</div>\n",
       "</div>\n",
       "<div class=\"crwAllReviewsLink\">\n",
       "<span>›</span>\n",
       "<a href=\"https://www.amazon.in/product-reviews/B0756Z43QS\">Read all reviews for this item</a>\n",
       "</div>\n",
       "</div>\n",
       "</div>\n",
       "<div class=\"crwClear\"></div>\n",
       "</div>"
      ]
     },
     "execution_count": 13,
     "metadata": {},
     "output_type": "execute_result"
    }
   ],
   "source": [
    "containers[0]"
   ]
  },
  {
   "cell_type": "code",
   "execution_count": 15,
   "metadata": {},
   "outputs": [],
   "source": [
    "container= containers[0]"
   ]
  },
  {
   "cell_type": "code",
   "execution_count": 19,
   "metadata": {},
   "outputs": [
    {
     "data": {
      "text/plain": [
       "<div class=\"crwImage\">\n",
       "<a href=\"https://www.amazon.in/OnePlus-Mirror-Black-64GB-Memory/dp/B0756Z43QS\"><div class=\"crwRank\" id=\"crwRank1\"></div></a>\n",
       "<div class=\"crwProductImage\">\n",
       "<a href=\"https://www.amazon.in/OnePlus-Mirror-Black-64GB-Memory/dp/B0756Z43QS\"><img alt=\"OnePlus 6 (Mirror Black 6GB RAM + 64GB Memory)\" border=\"0\" class=\"crwProductDetailsImage\" onload='window.uet &amp;&amp; uet.call &amp;&amp; uet(\"cf\");' src=\"https://images-eu.ssl-images-amazon.com/images/I/41fT611rSBL._AC_SS200_.jpg\" title=\"OnePlus 6 (Mirror Black 6GB RAM + 64GB Memory)\"/></a></div>\n",
       "</div>"
      ]
     },
     "execution_count": 19,
     "metadata": {},
     "output_type": "execute_result"
    }
   ],
   "source": [
    "container.div"
   ]
  },
  {
   "cell_type": "code",
   "execution_count": 20,
   "metadata": {},
   "outputs": [
    {
     "data": {
      "text/plain": [
       "<img alt=\"OnePlus 6 (Mirror Black 6GB RAM + 64GB Memory)\" border=\"0\" class=\"crwProductDetailsImage\" onload='window.uet &amp;&amp; uet.call &amp;&amp; uet(\"cf\");' src=\"https://images-eu.ssl-images-amazon.com/images/I/41fT611rSBL._AC_SS200_.jpg\" title=\"OnePlus 6 (Mirror Black 6GB RAM + 64GB Memory)\"/>"
      ]
     },
     "execution_count": 20,
     "metadata": {},
     "output_type": "execute_result"
    }
   ],
   "source": [
    "container.div.img"
   ]
  },
  {
   "cell_type": "code",
   "execution_count": 112,
   "metadata": {},
   "outputs": [
    {
     "data": {
      "text/plain": [
       "21"
      ]
     },
     "execution_count": 112,
     "metadata": {},
     "output_type": "execute_result"
    }
   ],
   "source": [
    "container.div.img[\"title\"]\n",
    "\n",
    "filename=\"products.csv\"\n",
    "f=open(filename,'w')\n",
    "headers=\"brand,ranking,price \\n\"\n",
    "f.write(headers)"
   ]
  },
  {
   "cell_type": "code",
   "execution_count": 115,
   "metadata": {},
   "outputs": [
    {
     "name": "stdout",
     "output_type": "stream",
     "text": [
      "\n",
      "\n",
      "# 1 Best Selling           \n",
      "Brand : OnePlus 6 (Mirror Black 6GB RAM + 64GB Memory)\n",
      "  Rs. 34,999.00\n",
      "---------------------------------------------------------\n",
      "\n",
      "\n",
      "# 2 Best Selling           \n",
      "Brand : RealMe 1 (Diamond Black, 6+128 GB)\n",
      "  Rs. 13,990.00\n",
      "---------------------------------------------------------\n",
      "\n",
      "\n",
      "# 3 Best Selling           \n",
      "Brand : Moto G6 (Indigo Black, 64GB)\n",
      "  Rs. 15,999.00\n",
      "---------------------------------------------------------\n",
      "\n",
      "\n",
      "# 4 Best Selling           \n",
      "Brand : Redmi 5 (Gold, 32GB)\n",
      "  Rs. 8,999.00\n",
      "---------------------------------------------------------\n",
      "\n",
      "\n",
      "# 5 Best Selling           \n",
      "Brand : Moto G5s Plus (Lunar Grey, 64GB)\n",
      "  Rs. 12,999.00\n",
      "---------------------------------------------------------\n",
      "\n",
      "\n",
      "# 6 Best Selling           \n",
      "Brand : Moto E4 Plus (Fine Gold, 32GB)\n",
      "  Rs. 8,098.00\n",
      "---------------------------------------------------------\n",
      "\n",
      "\n",
      "# 7 Best Selling           \n",
      "Brand : Redmi Y1 (Gold, 32GB)\n",
      "  Rs. 8,999.00\n",
      "---------------------------------------------------------\n",
      "\n",
      "\n",
      "# 8 Best Selling           \n",
      "Brand : Coming Soon - Honor 7C Blue (5.99\" FullView Display, 32GB)\n",
      "  Rs. 9,999.00\n",
      "---------------------------------------------------------\n",
      "\n",
      "\n",
      "# 9 Best Selling           \n",
      "Brand : Nokia 105 (Black)\n",
      "  Rs. 999.00\n",
      "---------------------------------------------------------\n",
      "\n",
      "\n",
      "# 10 Best Selling           \n",
      "Brand : 10.or D (Beyond Black, 3 GB)\n",
      "  Rs. 5,999.00\n",
      "---------------------------------------------------------\n",
      "\n"
     ]
    }
   ],
   "source": [
    "#for all containers\n",
    "Title=[]\n",
    "print()\n",
    "for container in containers:\n",
    "    brand= container.div.img[\"title\"]\n",
    "    \n",
    "    ranking= container.findAll(\"div\",{\"class\",\"crwRanking\"})[0].text\n",
    "    \n",
    "    price=container.findAll(\"div\",{\"class\":\"crwPrice\"})[0].findAll(\"span\",{\"class\":\"crwActualPrice\"})[0].span.text\n",
    "    print(ranking)\n",
    "    print(\"Brand :\", brand)\n",
    "    print(price)\n",
    "   # print()\n",
    "    \n",
    "    print(\"---------------------------------------------------------\")\n",
    "    print()\n",
    "    f.write(ranking + \",\" + brand.replace(\",\", \"|\") + \",\" + price.replace(\",\", \"\") + \"\\n\")\n",
    "f.close()"
   ]
  },
  {
   "cell_type": "code",
   "execution_count": null,
   "metadata": {},
   "outputs": [],
   "source": []
  },
  {
   "cell_type": "code",
   "execution_count": null,
   "metadata": {},
   "outputs": [],
   "source": []
  },
  {
   "cell_type": "code",
   "execution_count": null,
   "metadata": {},
   "outputs": [],
   "source": []
  },
  {
   "cell_type": "code",
   "execution_count": null,
   "metadata": {},
   "outputs": [],
   "source": []
  },
  {
   "cell_type": "code",
   "execution_count": null,
   "metadata": {},
   "outputs": [],
   "source": []
  }
 ],
 "metadata": {
  "kernelspec": {
   "display_name": "Python 3",
   "language": "python",
   "name": "python3"
  },
  "language_info": {
   "codemirror_mode": {
    "name": "ipython",
    "version": 3
   },
   "file_extension": ".py",
   "mimetype": "text/x-python",
   "name": "python",
   "nbconvert_exporter": "python",
   "pygments_lexer": "ipython3",
   "version": "3.6.5"
  }
 },
 "nbformat": 4,
 "nbformat_minor": 2
}
